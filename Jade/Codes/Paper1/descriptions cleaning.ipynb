{
 "cells": [
  {
   "cell_type": "code",
   "execution_count": null,
   "metadata": {},
   "outputs": [],
   "source": [
    "class description_cleaning:\n",
    "    import numpy as np\n",
    "    import os\n",
    "    import re\n",
    "    import csv\n",
    "    import pandas as pd\n",
    "    import collections\n",
    "    import nltk\n",
    "    def clean_description(file_name):\n",
    "        with open(file_name) as f:\n",
    "            line = f.readlines()\n",
    "            line = \"\".join(line)\n",
    "            product = line.split('Sign In')\n",
    "        product = product[1:]\n",
    "        descriptions = []\n",
    "        for i in product:\n",
    "            i = i.split('*****************************************************************')[4]\n",
    "            descriptions.append(i)\n",
    "            uni_description = sorted(set(descriptions),key=descriptions.index)\n",
    "    def write_cleaned_description(file_name):        \n",
    "        with open(file_name, 'w') as f:\n",
    "        for d in uni_description:\n",
    "            f.write(d)\n",
    "            f.write('\\n')\n",
    "            f.write(\"^^^^^^^^^^^^^^^^^^^^^^^^^^^^^^^^^^^^^^^^^^^^^^^^^^^^^^^^^^^^^^^^^\")\n",
    "            f.write('\\n')"
   ]
  }
 ],
 "metadata": {
  "kernelspec": {
   "display_name": "Python 3",
   "language": "python",
   "name": "python3"
  },
  "language_info": {
   "codemirror_mode": {
    "name": "ipython",
    "version": 3
   },
   "file_extension": ".py",
   "mimetype": "text/x-python",
   "name": "python",
   "nbconvert_exporter": "python",
   "pygments_lexer": "ipython3",
   "version": "3.7.3"
  }
 },
 "nbformat": 4,
 "nbformat_minor": 2
}
