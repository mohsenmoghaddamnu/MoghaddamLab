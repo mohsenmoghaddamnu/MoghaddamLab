{
 "cells": [
  {
   "cell_type": "code",
   "execution_count": null,
   "metadata": {},
   "outputs": [],
   "source": [
    "class get_clean_reviews():\n",
    "    import sys\n",
    "    import numpy as np\n",
    "    import os\n",
    "    import collections\n",
    "    import re\n",
    "    \n",
    "    def clean_review(file_name):\n",
    "        reviews = []\n",
    "        clean_review = []\n",
    "        with open (file_name, \"r\", encoding = \"UTF-8\") as f:\n",
    "            line = f.readlines()\n",
    "            line = \"\".join(line)\n",
    "            products = line.split('$$$$$$$$$$$$$$$$$$$$$$$$$$$$$$$$$$$$$$$$$$$$$$$$$$$$$$$$$$$$$$$$$$$$$$$$$$$$$$$$$$$$$$$$$$$$$$$$$$$$')\n",
    "            while \"\" in products:\n",
    "                products.remove(\"\")\n",
    "            for p in products:\n",
    "                temp = p.split(\"****************************************************************************************\")\n",
    "            for i in temp:\n",
    "                reviews.append(i)\n",
    "            for i in reviews:\n",
    "                if i not in ['\\n\\n', '\\n']:\n",
    "                    name = i.split('+-++++++++++++++++++++++++++++++')[0]\n",
    "                    star = i.split('+-++++++++++++++++++++++++++++++')[1]\n",
    "                    star = star.split(\"+++++++++++++++++++++++++++++++\")[0]\n",
    "                    star = star.split(\"alt=\")\n",
    "                    if len(star) >= 3:\n",
    "                        star = star[2]\n",
    "                        star = star.split(\"title=\")[0]\n",
    "                        star = star.split(\"><\\\\/div>\")[0]\n",
    "                    else:\n",
    "                        star = star[1]\n",
    "                        star = star.split(\"title=\")[0]\n",
    "                        star = star.split(\"><\\\\/div>\")[0]\n",
    "                    title = i.split('+++++++++++++++++++++++++++++++')[1]\n",
    "                    title = title.split('-+-+++++++++++++++++++++++++++++++++++++++')[0]\n",
    "                    title = title.split(\"BVRRValue BVRRReviewTitle\")[1]\n",
    "                    title = title.split(\"<\\/span><span class=\")[0]\n",
    "                    text = i.split('-+-+++++++++++++++++++++++++++++++++++++++')[1]\n",
    "                    if \"BVRRReviewText\" in text:\n",
    "                        text = text.split(\"BVRRReviewText\")[1]\n",
    "                        text = text.split(\"<\\/span>\")[0]\n",
    "                    j = name + star + title + text\n",
    "                    clean_review.append(j)\n",
    "        return clean_review\n",
    "    \n",
    "    def write_clean_review(file_name):\n",
    "        with open(file_name, 'w', encoding = \"UTF-8\") as f:\n",
    "            for details in clean_review:\n",
    "                f.write(details)"
   ]
  }
 ],
 "metadata": {
  "kernelspec": {
   "display_name": "Python 3",
   "language": "python",
   "name": "python3"
  },
  "language_info": {
   "codemirror_mode": {
    "name": "ipython",
    "version": 3
   },
   "file_extension": ".py",
   "mimetype": "text/x-python",
   "name": "python",
   "nbconvert_exporter": "python",
   "pygments_lexer": "ipython3",
   "version": "3.7.3"
  }
 },
 "nbformat": 4,
 "nbformat_minor": 2
}
