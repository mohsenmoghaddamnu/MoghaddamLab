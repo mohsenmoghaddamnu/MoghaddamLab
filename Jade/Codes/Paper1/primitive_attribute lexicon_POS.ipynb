{
 "cells": [
  {
   "cell_type": "code",
   "execution_count": 2,
   "metadata": {},
   "outputs": [],
   "source": [
    "class primitive_rules:\n",
    "\n",
    "    Rules = [\n",
    "        ('JJ', 'NN'),\n",
    "        ('JJ', 'NN','NN'),\n",
    "        ('NN','NN'),\n",
    "        ('VBZ', 'NN'),\n",
    "        ('CD','NNS','IN','NN'),\n",
    "        ('NN'),\n",
    "        ('NN','VBZ','NN','NN'),\n",
    "        ('NN','IN','DT','NNS'),\n",
    "        ('NN', 'NNS'),\n",
    "        ('NN','NN','NN'),\n",
    "        ('VB', 'NN'),\n",
    "        ('NNS'),\n",
    "        ('NN', 'VBD'),\n",
    "        ('JJ','VBD','JJ'),\n",
    "        ('JJ','RB'),\n",
    "        ('JJ','JJ','NNS'),\n",
    "        ('NNS','NN','NN'),\n",
    "        ('NN','NN','VBD'),\n",
    "        ('JJ','NNS'),\n",
    "        ('VBG','NN'),\n",
    "        ('JJ','JJ'),\n",
    "        ('NN','JJ'),\n",
    "        ('JJ'),\n",
    "        ('NN','CC','JJ'),\n",
    "        ('NN','CC','NN'),\n",
    "        ('NN','JJ','NNS'),\n",
    "        ('NN','NN','NN','NN')\n",
    "    ]\n",
    "    with open(\"H:/Data/Rules.txt\", \"w\") as f:\n",
    "    Rules = \"\".join(str(Rules))\n",
    "    f.write(Rules)"
   ]
  }
 ],
 "metadata": {
  "kernelspec": {
   "display_name": "Python 3",
   "language": "python",
   "name": "python3"
  },
  "language_info": {
   "codemirror_mode": {
    "name": "ipython",
    "version": 3
   },
   "file_extension": ".py",
   "mimetype": "text/x-python",
   "name": "python",
   "nbconvert_exporter": "python",
   "pygments_lexer": "ipython3",
   "version": "3.7.3"
  }
 },
 "nbformat": 4,
 "nbformat_minor": 2
}
