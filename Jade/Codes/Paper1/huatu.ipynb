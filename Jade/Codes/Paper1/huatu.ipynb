{
 "cells": [
  {
   "cell_type": "code",
   "execution_count": 1,
   "metadata": {},
   "outputs": [
    {
     "name": "stdout",
     "output_type": "stream",
     "text": [
      "Hello world\n"
     ]
    }
   ],
   "source": [
    "print(\"Hello world\")\n",
    "import numpy as np\n",
    "import sklearn\n",
    "import sys\n",
    "import os\n",
    "import pandas as pd\n",
    "import random\n",
    "import json\n",
    "import Ipy_importer\n",
    "import seaborn as sns; sns.set()\n",
    "from matplotlib import pyplot as plt"
   ]
  },
  {
   "cell_type": "code",
   "execution_count": 2,
   "metadata": {},
   "outputs": [],
   "source": [
    "'''\n",
    "load the similarity matrix and all the customer results\n",
    "'''\n",
    "with open(\"H:/Data/similarity_7172019.json\", \"r\", encoding = 'ISO-8859-1') as f:\n",
    "    jiba2 = json.load(f)"
   ]
  },
  {
   "cell_type": "code",
   "execution_count": 3,
   "metadata": {},
   "outputs": [],
   "source": [
    "with open(\"D:/Sneaker/matrix_of_everycustomer.json\", \"r\") as f:\n",
    "    customers = json.load(f)"
   ]
  },
  {
   "cell_type": "code",
   "execution_count": 4,
   "metadata": {},
   "outputs": [
    {
     "name": "stdout",
     "output_type": "stream",
     "text": [
      "145618279 23403\n"
     ]
    }
   ],
   "source": [
    "print(len(jiba2), len(customers))"
   ]
  },
  {
   "cell_type": "code",
   "execution_count": 5,
   "metadata": {},
   "outputs": [],
   "source": [
    "def look_3 (dic):\n",
    "    i = 0\n",
    "    for k, v in dic.items():\n",
    "        i += 1\n",
    "        if i >= 90000 and i <= 91000:\n",
    "            print(k, v)"
   ]
  },
  {
   "cell_type": "code",
   "execution_count": 6,
   "metadata": {},
   "outputs": [],
   "source": [
    "# look_3(jiba2)"
   ]
  },
  {
   "cell_type": "code",
   "execution_count": 2,
   "metadata": {},
   "outputs": [],
   "source": [
    "jiba3 = {\n",
    "'Reebok_Classic_Leather_Gum_Casual_Shoes0+Reebok_Classic_Leather_Gum_Casual_Shoes2' : 0.8669507503509521,\n",
    "'Reebok_Classic_Leather_Gum_Casual_Shoes2+Nike_Shox_Nz_Running_Shoes3' : 0.752762496471405,\n",
    "'Reebok_Classic_Leather_Gum_Casual_Shoes3+Nike_Shox_Nz_Running_Shoes5' : 0.25,\n",
    "'Reebok_Classic_Leather_Gum_Casual_Shoes0+Nike_Shox_Nz_Running_Shoes10' : 0.6152743697166443,\n",
    "'Reebok_Classic_Leather_Gum_Casual_Shoes4+Nike_Shox_Nz_Running_Shoes12' : 0.7871477603912354,\n",
    "'Reebok_Classic_Leather_Gum_Casual_Shoes0+Nike_Shox_Nz_Running_Shoes23' : 0.6161695718765259,\n",
    "'Reebok_Classic_Leather_Gum_Casual_Shoes6+Nike_Shox_Nz_Running_Shoes25' : 0.7650904655456543,\n",
    "'Reebok_Classic_Leather_Gum_Casual_Shoes7+Nike_Shox_Nz_Running_Shoes26' : 0.6851667761802673\n",
    "}\n",
    "# jiba3 = {}\n",
    "# jiba3 = random.sample(jiba2.items(), 10000)\n",
    "# type(jiba2)\n",
    "# jiba3 = {}\n",
    "# i = 0\n",
    "# for k, v in jiba2.items():\n",
    "#     if i <= 9999:\n",
    "#         jiba3[k] = v\n",
    "#     i += 1"
   ]
  },
  {
   "cell_type": "code",
   "execution_count": 3,
   "metadata": {},
   "outputs": [
    {
     "name": "stdout",
     "output_type": "stream",
     "text": [
      "<class 'dict'>\n"
     ]
    },
    {
     "data": {
      "text/plain": [
       "8"
      ]
     },
     "execution_count": 3,
     "metadata": {},
     "output_type": "execute_result"
    }
   ],
   "source": [
    "print(type(jiba3))\n",
    "len(jiba3)"
   ]
  },
  {
   "cell_type": "code",
   "execution_count": 6,
   "metadata": {},
   "outputs": [
    {
     "name": "stdout",
     "output_type": "stream",
     "text": [
      "(20, 20)\n"
     ]
    }
   ],
   "source": [
    "'''\n",
    "Creating a new 2D arrary\n",
    "'''\n",
    "sim = [[0]*20 for i in range(20)]\n",
    "print(np.shape(sim))"
   ]
  },
  {
   "cell_type": "code",
   "execution_count": 7,
   "metadata": {},
   "outputs": [
    {
     "name": "stdout",
     "output_type": "stream",
     "text": [
      "0\n",
      "0 1\n",
      "1\n",
      "1 2\n",
      "3\n",
      "3 4\n",
      "0\n",
      "0 5\n",
      "6\n",
      "6 7\n",
      "0\n",
      "0 8\n",
      "9\n",
      "9 10\n",
      "11\n",
      "11 12\n"
     ]
    }
   ],
   "source": [
    "name_dict = {}\n",
    "for k, v in jiba3.items():\n",
    "    n1,n2= k.split(\"+\")\n",
    "    if n1 not in name_dict:\n",
    "        name_dict[n1] = len(name_dict)\n",
    "    n1_id = name_dict[n1]\n",
    "    print(n1_id)\n",
    "    if n2 not in name_dict:\n",
    "        name_dict[n2] = len(name_dict)\n",
    "    n2_id = name_dict[n2]\n",
    "    print(n1_id, n2_id)\n",
    "    sim[n2_id-1][n1_id-1] = v"
   ]
  },
  {
   "cell_type": "code",
   "execution_count": null,
   "metadata": {},
   "outputs": [],
   "source": [
    "# sim"
   ]
  },
  {
   "cell_type": "code",
   "execution_count": 8,
   "metadata": {},
   "outputs": [
    {
     "data": {
      "image/png": "[encoded data removed]",
      "text/plain": [
       "<Figure size 1152x360 with 2 Axes>"
      ]
     },
     "metadata": {
      "needs_background": "light"
     },
     "output_type": "display_data"
    }
   ],
   "source": [
    "\n",
    "plt.figure(figsize = (16,5))\n",
    "sns_plot = sns.heatmap(sim, annot=True)\n"
   ]
  },
  {
   "cell_type": "code",
   "execution_count": null,
   "metadata": {},
   "outputs": [],
   "source": []
  }
 ],
 "metadata": {
  "kernelspec": {
   "display_name": "Python 3",
   "language": "python",
   "name": "python3"
  },
  "language_info": {
   "codemirror_mode": {
    "name": "ipython",
    "version": 3
   },
   "file_extension": ".py",
   "mimetype": "text/x-python",
   "name": "python",
   "nbconvert_exporter": "python",
   "pygments_lexer": "ipython3",
   "version": "3.7.3"
  }
 },
 "nbformat": 4,
 "nbformat_minor": 2
}
