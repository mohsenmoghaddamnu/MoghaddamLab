{
 "cells": [
  {
   "cell_type": "code",
   "execution_count": null,
   "metadata": {},
   "outputs": [],
   "source": [
    "class find_product_name:\n",
    "    import selenium\n",
    "    import time\n",
    "    from selenium import webdriver\n",
    "    from bs4 import BeautifulSoup as BS\n",
    "    from selenium.webdriver.chrome.options import Options\n",
    "    import sys\n",
    "    import pickle\n",
    "    import pandas as pd\n",
    "    from collections import Counter\n",
    "    import numpy as np\n",
    "    \n",
    "    \n",
    "    def find_all_products(file_name):\n",
    "        # this step is get the product links from the previous file  \n",
    "        with open(file_name, \"r\") as x:\n",
    "            all_product = x.read().splitlines()\n",
    "            product_name = []\n",
    "            for i in all_product:\n",
    "                i = i.strip('\\n')\n",
    "                all_set = set(all_product)\n",
    "                all_product = list(all_set)\n",
    "            for j in all_product:\n",
    "                j = j.split('/')[3]\n",
    "                product_name.append(j)\n",
    "            name_all_set = set(product_name)\n",
    "            name_all_product = list(name_all_set)\n",
    "        return name_all_product\n",
    "        \n",
    "    def got_product_name(file_name):\n",
    "        # this function is looking for the descriptions of each unique product\n",
    "        with open (file_name, 'w', encoding='utf-8') as f:\n",
    "            item = 0\n",
    "            for name in all_product:\n",
    "                browser = webdriver.Firefox()\n",
    "                item += 1\n",
    "                print(name)\n",
    "                print(item)\n",
    "                product_name = name.split('/')[3]\n",
    "                browser_name = \"https://www.finishline.com\" + name\n",
    "                browser.get(browser_name)\n",
    "                time.sleep(30)\n",
    "                bs_obj = BS(browser.page_source.encode('utf-8', 'ignore'), \"html.parser\")\n",
    "                description = bs_obj.findAll(\"div\", {\"class\":\"column small-12\"})  \n",
    "                for i in description:\n",
    "                #       print(i.find_all(\"li\"))\n",
    "        #                 product_name_description[product_name] = [i.find_all(\"li\")]\n",
    "                    details = \"\".join(i.stripped_strings)\n",
    "                    f.write(product_name + \"===\" + repr(details))\n",
    "                    f.write('\\n')\n",
    "                    f.write(\"*****************************************************************\")\n",
    "                    f.flush()\n",
    "                    browser.quit()\n",
    "                \n",
    "        return"
   ]
  }
 ],
 "metadata": {
  "kernelspec": {
   "display_name": "Python 3",
   "language": "python",
   "name": "python3"
  },
  "language_info": {
   "codemirror_mode": {
    "name": "ipython",
    "version": 3
   },
   "file_extension": ".py",
   "mimetype": "text/x-python",
   "name": "python",
   "nbconvert_exporter": "python",
   "pygments_lexer": "ipython3",
   "version": "3.7.3"
  }
 },
 "nbformat": 4,
 "nbformat_minor": 2
}
